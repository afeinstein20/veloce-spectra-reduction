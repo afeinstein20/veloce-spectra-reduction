{
 "cells": [
  {
   "cell_type": "code",
   "execution_count": 3,
   "metadata": {},
   "outputs": [],
   "source": [
    "import os, sys\n",
    "import scipy\n",
    "import numpy as np\n",
    "import ccdproc as ccdp\n",
    "from astropy.io import fits\n",
    "from astropy.time import Time\n",
    "from tqdm import tqdm_notebook\n",
    "import matplotlib.pyplot as plt\n",
    "from scipy.ndimage import minimum_filter1d\n",
    "from astropy.table import Table, Row, Column\n",
    "from scipy.ndimage.filters import percentile_filter\n",
    "import astroscrappy as astrocrap\n",
    "from astropy.nddata import CCDData\n",
    "\n",
    "from matplotlib.animation import FuncAnimation\n",
    "from IPython.display import HTML\n",
    "\n",
    "plt.rcParams['font.size'] = 15"
   ]
  },
  {
   "cell_type": "code",
   "execution_count": 4,
   "metadata": {},
   "outputs": [],
   "source": [
    "tics = [333680372, 146522418, 427346731, 246897668, 178947176]\n",
    "parula_colors = np.load('/Users/arcticfox/parula_colors.npy', allow_pickle=True)\n",
    "plot_dir = '/Users/arcticfox/Documents/youngStars/veloce/plots/'\n",
    "tab = Table.read('/Users/arcticfox/Documents/youngStars/veloce/master_log.tab', format='ascii')\n",
    "DISCRETE = np.load('./201108/discrete_models.npy', allow_pickle=True)\n",
    "FIT_X = np.arange(300, 4000, 1)"
   ]
  },
  {
   "cell_type": "markdown",
   "metadata": {},
   "source": [
    "## Get files by date"
   ]
  },
  {
   "cell_type": "code",
   "execution_count": 59,
   "metadata": {},
   "outputs": [],
   "source": [
    "def get_global_files(date):\n",
    "    directory = ''.join(i for i in date.split('-'))[2:]\n",
    "    \n",
    "    files = np.sort([os.path.join(directory,i) for i in \n",
    "                 os.listdir(directory) if i.endswith('.npy')])\n",
    "    global_files = np.sort([i for i in files if 'nov' not in i])\n",
    "    \n",
    "    return global_files\n",
    "\n",
    "def get_files_by_date(date):\n",
    "    directory = ''.join(i for i in date.split('-'))[2:]\n",
    "    files = np.sort([os.path.join(directory,i) for i in \n",
    "                 os.listdir(directory) if i.endswith('.npy')])\n",
    "\n",
    "    if date == '2020-11-08' or date == '2020-11-09' or date == '2020-11-10':\n",
    "        subdir = directory + '/masked/'\n",
    "        science_files = np.sort([os.path.join(subdir, i) for i in os.listdir(subdir)])\n",
    "    else:\n",
    "        science_files = np.sort([i for i in files if 'nov' in i])\n",
    "    \n",
    "    return science_files\n",
    "\n",
    "def get_cr_files(date):\n",
    "    directory='/Users/arcticfox/Documents/youngStars/veloce/spectra/cr_masked'\n",
    "    files = np.sort([os.path.join(directory, i) for i in \n",
    "                     os.listdir(directory)])\n",
    "    \n",
    "    day = date.split('-')[-1] + 'nov'\n",
    "    \n",
    "    return np.sort([i for i in files if day in i])"
   ]
  },
  {
   "cell_type": "markdown",
   "metadata": {},
   "source": [
    "## Masking Cosmic Rays"
   ]
  },
  {
   "cell_type": "code",
   "execution_count": 60,
   "metadata": {},
   "outputs": [],
   "source": [
    "def mask_cosmic_scum(data):\n",
    "    mask, masked_data = astrocrap.detect_cosmics(data)\n",
    "    return masked_data"
   ]
  },
  {
   "cell_type": "markdown",
   "metadata": {},
   "source": [
    "## Modeling & removing the blaze"
   ]
  },
  {
   "cell_type": "code",
   "execution_count": 61,
   "metadata": {},
   "outputs": [],
   "source": [
    "def model_flat_field(flat, order=26, size=100, percentile=55, degree=10):\n",
    "    x = np.arange(0, len(flat[order]),1)\n",
    "    \n",
    "    # Find discontinuity in flat\n",
    "    med = np.nanmedian(np.diff(flat[order]))\n",
    "    std = np.nanstd(np.diff(flat[order]))\n",
    "\n",
    "    flat_len = int(np.where(np.diff(flat[order]) >= 10*std + med)[0])\n",
    "    \n",
    "    # Fit first half of flat\n",
    "    filt1 = percentile_filter(flat[order][:flat_len], percentile=percentile, size=size)\n",
    "    fit1 = np.polyfit(x[:flat_len], filt1, deg=degree)\n",
    "    model1 = np.poly1d(fit1)\n",
    "\n",
    "    # Fit second half of flat\n",
    "    filt2 = percentile_filter(flat[order][flat_len:], percentile=percentile, size=size)\n",
    "    fit2 = np.polyfit(x[flat_len:], filt2, deg=degree)\n",
    "    model2 = np.poly1d(fit2)\n",
    "    \n",
    "    model = np.append(model1(x[:flat_len]), model2(x[flat_len:]))\n",
    "    return x, model"
   ]
  },
  {
   "cell_type": "markdown",
   "metadata": {},
   "source": [
    "## Extracting orders from npy files"
   ]
  },
  {
   "cell_type": "code",
   "execution_count": 62,
   "metadata": {},
   "outputs": [],
   "source": [
    "def extract_orders(filename, dark, order, order_offset=[0,0], fntype='science', std=2.5,\n",
    "                    border_offset=[0,0]):\n",
    "    \"\"\"\n",
    "    Inputs\n",
    "    ------\n",
    "    order : int\n",
    "        which order to extract\n",
    "    order_offset : array\n",
    "        offset for the top & bottom models to extract the data\n",
    "    border_offset: array\n",
    "        offset for setting surrounding background to NaNs\n",
    "    std : float\n",
    "        masks bad pixels above certain standard deviation threshold\n",
    "    \"\"\"\n",
    "    global DISCRETE, FIT_X\n",
    "\n",
    "    data = np.load(filename, allow_pickle=True) + 0.0\n",
    "    #data, _ = ccdp.cosmicray_lacosmic(data) # masks cosmic rays\n",
    "    \n",
    "    if data.shape == (4112, 4202):\n",
    "        \n",
    "        # extract the orders\n",
    "        flux = np.zeros((DISCRETE.shape[0]-1, len(DISCRETE[0])))\n",
    "        data = data - dark + 0.0\n",
    "        \n",
    "        # remove pesky cosmic rays n shit\n",
    "        if fntype == 'science':\n",
    "            #rows, cols = np.where((data > np.nanmedian(data)+std*np.nanstd(data)))\n",
    "            #data[rows,cols] = np.nan\n",
    "            \n",
    "            for i in range(len(DISCRETE[order])):\n",
    "                start = int(DISCRETE[order+1][i]+border_offset[0])\n",
    "                stop  = int(DISCRETE[order+1][i]+border_offset[-1])\n",
    "                data[FIT_X[i],start:stop] = np.nan\n",
    "                data[FIT_X[i],start:stop] = np.nan\n",
    "                \n",
    "                start = int(DISCRETE[order][i]+border_offset[0])\n",
    "                stop  = int(DISCRETE[order][i]+border_offset[-1])\n",
    "                data[FIT_X[i],start:stop] = np.nan\n",
    "                data[FIT_X[i],start:stop] = np.nan\n",
    "\n",
    "        #for i in range(0, DISCRETE.shape[0]-1):\n",
    "\n",
    "        top = DISCRETE[order]+order_offset[0]\n",
    "        avg_width = np.abs(np.nanmedian(DISCRETE[order+1] - DISCRETE[order]))\n",
    "        bottom = np.array(top + avg_width, dtype=int) - order_offset[-1]\n",
    "        \n",
    "        for j in range(FIT_X[0],len(FIT_X)):\n",
    "            subdat = data[j, top[j]:bottom[j]]\n",
    "            flux[order][j] = np.nansum(subdat)\n",
    "\n",
    "        return data, flux\n",
    "    else:\n",
    "        print('Bad File: ', filename)\n",
    "        return None, None"
   ]
  },
  {
   "cell_type": "code",
   "execution_count": 97,
   "metadata": {},
   "outputs": [],
   "source": [
    "def which_element(element):\n",
    "    if element == 'calcium':\n",
    "        order = 5\n",
    "        border_offset=[-3, 80]\n",
    "        savedir = 'calcium_triplet/'\n",
    "        return order, border_offset, savedir\n",
    "    elif element == 'halpha':\n",
    "        order = 26\n",
    "        border_offset=[-5,25]\n",
    "        savedir = 'halpha_orders/'\n",
    "        return order, border_offset, savedir\n",
    "    else:\n",
    "        print('Element not incorporated yet')\n",
    "        return None"
   ]
  },
  {
   "cell_type": "code",
   "execution_count": 91,
   "metadata": {},
   "outputs": [],
   "source": [
    "def diagnosis_plot(orders, order, dat, filt):\n",
    "    global FIT_X, DISCRETE\n",
    "    \n",
    "    fig, (ax1, ax2) = plt.subplots(ncols=2, figsize=(12,4))\n",
    "\n",
    "    flattened = orders[order]/filt\n",
    "    ax2.plot(flattened[1300:1600], c=parula_colors[100])\n",
    "    #ax2.set_xlim(1300,1600)\n",
    "    ax2.set_ylim(np.nanmin(flattened[1300:1600])-0.02,\n",
    "                 np.nanmax(flattened[1300:1600])+0.02)\n",
    "\n",
    "    ax1.imshow(dat.T, vmin=-30, vmax=150)\n",
    "    ax1.plot(FIT_X, DISCRETE[order], 'k', lw=2)\n",
    "    avg_width = np.abs(np.nanmedian(DISCRETE[order+1]-DISCRETE[order]))\n",
    "\n",
    "    ax1.plot(FIT_X, DISCRETE[order]+avg_width, 'k', lw=2)\n",
    "    ax1.set_xlim(1200,1900)\n",
    "    ax1.set_ylim(3600,3200)\n",
    "    #ax1.set_ylim(np.nanmin(DISCRETE[order])+100, \n",
    "    #             np.nanmax(DISCRETE[order])+300)\n",
    "    ax1.set_xticks([])\n",
    "    ax1.set_yticks([])\n",
    "    plt.subplots_adjust(wspace=0.1)\n",
    "    plt.show()"
   ]
  },
  {
   "cell_type": "code",
   "execution_count": 92,
   "metadata": {},
   "outputs": [],
   "source": [
    "def remove_cosmic_rays(date, savedir):\n",
    "    \n",
    "    science_files, global_files = get_files(date)\n",
    "    \n",
    "    for filename in tqdm_notebook(science_files):\n",
    "        fits_filename = filename[:-4] + '.fits'\n",
    "        hdu = fits.open(fits_filename)\n",
    "        ccd = CCDData(hdu[0].data, unit='electron')\n",
    "        hdu.close()\n",
    "    \n",
    "        newfilename = filename.split('/')[-1][:-4]+'_maskedCRs.npy'\n",
    "\n",
    "        if newfilename not in os.listdir(savedir):\n",
    "            ccd_removed = ccdp.cosmicray_lacosmic(ccd, sigclip=5)#,\n",
    "                                                  #verbose=True) # masks cosmic rays\n",
    "            np.save(os.path.join(savedir, newfilename), ccd_removed.data)\n"
   ]
  },
  {
   "cell_type": "code",
   "execution_count": 93,
   "metadata": {},
   "outputs": [],
   "source": [
    "def create_masked_files(date):\n",
    "    cr_dir = '/Users/arcticfox/Documents/youngStars/veloce/spectra/cr_masked'\n",
    "    remove_cosmic_rays(date, cr_dir)"
   ]
  },
  {
   "cell_type": "markdown",
   "metadata": {},
   "source": [
    "## Main Function"
   ]
  },
  {
   "cell_type": "code",
   "execution_count": 94,
   "metadata": {},
   "outputs": [],
   "source": [
    "%matplotlib inline\n",
    "\n",
    "def main(date, element, plot=False, save=False, directory=None):\n",
    "    global  DISCRETE, FIT_X\n",
    "\n",
    "    order, border_offset, savedir = which_element(element)\n",
    "    \n",
    "    save_tab = Table(names=['Date', 'TIC', 'Filename'],\n",
    "                       dtype=['U32', int, 'U32'])\n",
    "\n",
    "    global_files = get_global_files(date)\n",
    "    science_files = get_cr_files(date)\n",
    "    dark_med = np.load(global_files[1], allow_pickle=True)\n",
    "\n",
    "    if date > '2020-11-11':\n",
    "        offset = 5\n",
    "    else:\n",
    "        offset = 0\n",
    "\n",
    "    for i, FN in enumerate(science_files):\n",
    "\n",
    "        f = int(FN.split('/')[-1].split('_')[0][-3:])\n",
    "\n",
    "        which_tic = int(tab[(tab['Frame']==f) & (tab['ObsDate'] == date)]['ObjType'][0][3:])\n",
    "\n",
    "        dat, orders = extract_orders(FN, dark_med, order,\n",
    "                                     order_offset=[0,0], std=5.0,\n",
    "                                     border_offset=border_offset)\n",
    "\n",
    "        if type(dat) == np.ndarray:\n",
    "            filt = percentile_filter(orders[order], percentile=60, size=300)\n",
    "            flattened = orders[order]/filt\n",
    "            \n",
    "            if plot:\n",
    "                diagnosis_plot(orders, order, dat, filt)\n",
    "\n",
    "        newname = FN.split('.')[0].split('/')[-1] + '_{0}.npy'.format(element)\n",
    "\n",
    "        np.save(os.path.join(savedir, newname), flattened/np.nanmedian(flattened))\n",
    "\n",
    "        save_tab.add_row([date, which_tic, FN])\n",
    "        \n",
    "    if save:\n",
    "        save_tab.write('{0}_{1}_orders.tab'.format(element, date), \n",
    "                        format='ascii', overwrite=True)"
   ]
  },
  {
   "cell_type": "code",
   "execution_count": 96,
   "metadata": {},
   "outputs": [
    {
     "name": "stderr",
     "output_type": "stream",
     "text": [
      "//anaconda3/lib/python3.7/site-packages/ipykernel_launcher.py:32: RuntimeWarning: invalid value encountered in true_divide\n",
      "//anaconda3/lib/python3.7/site-packages/ipykernel_launcher.py:32: RuntimeWarning: invalid value encountered in true_divide\n",
      "//anaconda3/lib/python3.7/site-packages/ipykernel_launcher.py:32: RuntimeWarning: invalid value encountered in true_divide\n",
      "//anaconda3/lib/python3.7/site-packages/ipykernel_launcher.py:32: RuntimeWarning: invalid value encountered in true_divide\n",
      "//anaconda3/lib/python3.7/site-packages/ipykernel_launcher.py:32: RuntimeWarning: invalid value encountered in true_divide\n",
      "//anaconda3/lib/python3.7/site-packages/ipykernel_launcher.py:32: RuntimeWarning: invalid value encountered in true_divide\n",
      "//anaconda3/lib/python3.7/site-packages/ipykernel_launcher.py:32: RuntimeWarning: invalid value encountered in true_divide\n"
     ]
    }
   ],
   "source": [
    "dates = np.unique(tab['ObsDate'])\n",
    "\n",
    "for day in dates:\n",
    "    main(day, element='calcium')"
   ]
  },
  {
   "cell_type": "code",
   "execution_count": null,
   "metadata": {},
   "outputs": [],
   "source": []
  }
 ],
 "metadata": {
  "kernelspec": {
   "display_name": "Python 3",
   "language": "python",
   "name": "python3"
  },
  "language_info": {
   "codemirror_mode": {
    "name": "ipython",
    "version": 3
   },
   "file_extension": ".py",
   "mimetype": "text/x-python",
   "name": "python",
   "nbconvert_exporter": "python",
   "pygments_lexer": "ipython3",
   "version": "3.7.3"
  }
 },
 "nbformat": 4,
 "nbformat_minor": 2
}
