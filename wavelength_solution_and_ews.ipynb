{
 "cells": [
  {
   "cell_type": "code",
   "execution_count": 128,
   "metadata": {},
   "outputs": [],
   "source": [
    "import os\n",
    "import numpy as np\n",
    "from astropy.io import fits\n",
    "from astropy.time import Time\n",
    "from astropy import units as u\n",
    "import matplotlib.pyplot as plt\n",
    "from astropy.table import Table\n",
    "from astroquery.mast import Catalogs\n",
    "from scipy.interpolate import interp1d\n",
    "from astropy.coordinates import SkyCoord, EarthLocation"
   ]
  },
  {
   "cell_type": "code",
   "execution_count": 129,
   "metadata": {},
   "outputs": [],
   "source": [
    "tics = np.append(np.unique(log['TIC']), 333680372)\n",
    "locations = {}\n",
    "\n",
    "for tic in tics:\n",
    "    s = Catalogs.query_object('TIC {0}'.format(tic), catalog='TIC')[0]\n",
    "    locations[tic] = [s['ra'], s['dec']]"
   ]
  },
  {
   "cell_type": "code",
   "execution_count": 130,
   "metadata": {},
   "outputs": [],
   "source": [
    "element = 'halpha'\n",
    "\n",
    "if element == 'halpha':\n",
    "    ordernum = 30\n",
    "    fndir = 'halpha_orders/'\n",
    "elif element == 'calcium':\n",
    "    ordernum = 8\n",
    "    fndir = 'calcium_triplet/'"
   ]
  },
  {
   "cell_type": "code",
   "execution_count": 131,
   "metadata": {},
   "outputs": [],
   "source": [
    "wavetab = Table.read('thxe_lines_fibre_01_for_20180918.txt', format='ascii')\n",
    "halphatab = wavetab[wavetab['order_number']==ordernum]\n",
    "\n",
    "discrete = np.load('./201108/discrete_models.npy')\n",
    "path = '/Users/arcticfox/Documents/youngStars/veloce/spectra/2011{0:02d}'\n",
    "\n",
    "path_orders = '/Users/arcticfox/Documents/youngStars/veloce/spectra/{0}'.format(fndir)\n",
    "orders = np.sort([os.path.join(path_orders, i) for i in os.listdir(path_orders)])\n",
    "\n",
    "log = Table.read('/Users/arcticfox/Documents/youngStars/veloce/spectra/{0}_orders.tab'.format(element),\n",
    "                 format='ascii')"
   ]
  },
  {
   "cell_type": "code",
   "execution_count": 132,
   "metadata": {},
   "outputs": [
    {
     "data": {
      "text/plain": [
       "Text(0, 0.5, 'wavelength [A]')"
      ]
     },
     "execution_count": 132,
     "metadata": {},
     "output_type": "execute_result"
    },
    {
     "data": {
      "image/png": "[encoded data removed]",
      "text/plain": [
       "<Figure size 432x288 with 1 Axes>"
      ]
     },
     "metadata": {
      "needs_background": "light"
     },
     "output_type": "display_data"
    }
   ],
   "source": [
    "%matplotlib inline\n",
    "plt.plot(halphatab['pixel'], halphatab['vac_ref_wl[A]'], '.')\n",
    "plt.xlabel('pixel value')\n",
    "plt.ylabel('wavelength [A]')"
   ]
  },
  {
   "cell_type": "markdown",
   "metadata": {},
   "source": [
    "## Barycentric correction function"
   ]
  },
  {
   "cell_type": "code",
   "execution_count": 133,
   "metadata": {},
   "outputs": [],
   "source": [
    "def get_barycorr(time, ra, dec):\n",
    "    global LATITUDE, LONGITUDE, ALTITUDE\n",
    "\n",
    "    aat = EarthLocation.from_geodetic(lat=LATITUDE, \n",
    "                                      lon=LONGITUDE,\n",
    "                                      height=ALTITUDE)\n",
    "    sc = SkyCoord(ra, dec, unit=(u.deg, u.deg))\n",
    "    barycorr = sc.radial_velocity_correction('heliocentric',\n",
    "                                             obstime=Time(time, format='mjd'), \n",
    "                                             location=aat)\n",
    "    bc = barycorr.to(u.km/u.s) \n",
    "        \n",
    "    return bc.value * u.km / u.s"
   ]
  },
  {
   "cell_type": "markdown",
   "metadata": {},
   "source": [
    "## Dealing with x pixels"
   ]
  },
  {
   "cell_type": "code",
   "execution_count": 134,
   "metadata": {},
   "outputs": [],
   "source": [
    "# interpolates xpixel value with wavelength\n",
    "interp_wave = interp1d(halphatab['pixel'], halphatab['vac_ref_wl[A]'])\n",
    "\n",
    "fitx = np.arange(300,4000,1)\n",
    "\n",
    "newfitx = np.logspace(np.log10(halphatab['pixel'].min()+0.01), \n",
    "                      np.log10(halphatab['pixel'].max()-0.01), 5000, base=10.0)"
   ]
  },
  {
   "cell_type": "code",
   "execution_count": 135,
   "metadata": {},
   "outputs": [
    {
     "data": {
      "text/plain": [
       "[<matplotlib.lines.Line2D at 0x13acca358>]"
      ]
     },
     "execution_count": 135,
     "metadata": {},
     "output_type": "execute_result"
    },
    {
     "data": {
      "image/png": "[encoded data removed]",
      "text/plain": [
       "<Figure size 432x288 with 1 Axes>"
      ]
     },
     "metadata": {
      "needs_background": "light"
     },
     "output_type": "display_data"
    }
   ],
   "source": [
    "n = interp1d(halphatab['pixel'], halphatab['air_ref_wl[A]'])\n",
    "\n",
    "plt.plot(newfitx, interp_wave(newfitx), 'k', lw=3)\n",
    "plt.plot(newfitx, n(newfitx), 'darkorange')\n"
   ]
  },
  {
   "cell_type": "code",
   "execution_count": 136,
   "metadata": {},
   "outputs": [
    {
     "name": "stdout",
     "output_type": "stream",
     "text": [
      "647.3002280051992 647.1214023929876\n"
     ]
    }
   ],
   "source": [
    "print(interp_wave(newfitx)[-1]/10, n(newfitx)[-1]/10)"
   ]
  },
  {
   "cell_type": "code",
   "execution_count": 137,
   "metadata": {},
   "outputs": [
    {
     "data": {
      "text/plain": [
       "array(['/Users/arcticfox/Documents/youngStars/veloce/spectra/halpha_orders/08nov30093_halpha.npy',\n",
       "       '/Users/arcticfox/Documents/youngStars/veloce/spectra/halpha_orders/08nov30093_masked_halpha.npy',\n",
       "       '/Users/arcticfox/Documents/youngStars/veloce/spectra/halpha_orders/08nov30094_halpha.npy',\n",
       "       '/Users/arcticfox/Documents/youngStars/veloce/spectra/halpha_orders/08nov30094_masked_halpha.npy',\n",
       "       '/Users/arcticfox/Documents/youngStars/veloce/spectra/halpha_orders/08nov30095_halpha.npy',\n",
       "       '/Users/arcticfox/Documents/youngStars/veloce/spectra/halpha_orders/08nov30095_masked_halpha.npy',\n",
       "       '/Users/arcticfox/Documents/youngStars/veloce/spectra/halpha_orders/08nov30096_halpha.npy',\n",
       "       '/Users/arcticfox/Documents/youngStars/veloce/spectra/halpha_orders/08nov30096_masked_halpha.npy',\n",
       "       '/Users/arcticfox/Documents/youngStars/veloce/spectra/halpha_orders/08nov30097_halpha.npy',\n",
       "       '/Users/arcticfox/Documents/youngStars/veloce/spectra/halpha_orders/08nov30097_masked_halpha.npy',\n",
       "       '/Users/arcticfox/Documents/youngStars/veloce/spectra/halpha_orders/08nov30098_halpha.npy',\n",
       "       '/Users/arcticfox/Documents/youngStars/veloce/spectra/halpha_orders/08nov30098_masked_halpha.npy',\n",
       "       '/Users/arcticfox/Documents/youngStars/veloce/spectra/halpha_orders/08nov30099_halpha.npy',\n",
       "       '/Users/arcticfox/Documents/youngStars/veloce/spectra/halpha_orders/08nov30099_masked_halpha.npy',\n",
       "       '/Users/arcticfox/Documents/youngStars/veloce/spectra/halpha_orders/08nov30100_halpha.npy',\n",
       "       '/Users/arcticfox/Documents/youngStars/veloce/spectra/halpha_orders/08nov30100_masked_halpha.npy',\n",
       "       '/Users/arcticfox/Documents/youngStars/veloce/spectra/halpha_orders/08nov30101_halpha.npy',\n",
       "       '/Users/arcticfox/Documents/youngStars/veloce/spectra/halpha_orders/08nov30101_masked_halpha.npy',\n",
       "       '/Users/arcticfox/Documents/youngStars/veloce/spectra/halpha_orders/08nov30102_halpha.npy',\n",
       "       '/Users/arcticfox/Documents/youngStars/veloce/spectra/halpha_orders/08nov30102_masked_halpha.npy',\n",
       "       '/Users/arcticfox/Documents/youngStars/veloce/spectra/halpha_orders/08nov30103_halpha.npy',\n",
       "       '/Users/arcticfox/Documents/youngStars/veloce/spectra/halpha_orders/08nov30103_masked_halpha.npy',\n",
       "       '/Users/arcticfox/Documents/youngStars/veloce/spectra/halpha_orders/08nov30104_halpha.npy',\n",
       "       '/Users/arcticfox/Documents/youngStars/veloce/spectra/halpha_orders/08nov30104_masked_halpha.npy',\n",
       "       '/Users/arcticfox/Documents/youngStars/veloce/spectra/halpha_orders/08nov30105_halpha.npy',\n",
       "       '/Users/arcticfox/Documents/youngStars/veloce/spectra/halpha_orders/08nov30105_masked_halpha.npy',\n",
       "       '/Users/arcticfox/Documents/youngStars/veloce/spectra/halpha_orders/08nov30106_halpha.npy',\n",
       "       '/Users/arcticfox/Documents/youngStars/veloce/spectra/halpha_orders/08nov30106_masked_halpha.npy',\n",
       "       '/Users/arcticfox/Documents/youngStars/veloce/spectra/halpha_orders/09nov30131_halpha.npy',\n",
       "       '/Users/arcticfox/Documents/youngStars/veloce/spectra/halpha_orders/09nov30131_masked_halpha.npy',\n",
       "       '/Users/arcticfox/Documents/youngStars/veloce/spectra/halpha_orders/09nov30132_halpha.npy',\n",
       "       '/Users/arcticfox/Documents/youngStars/veloce/spectra/halpha_orders/09nov30132_masked_halpha.npy',\n",
       "       '/Users/arcticfox/Documents/youngStars/veloce/spectra/halpha_orders/09nov30133_halpha.npy',\n",
       "       '/Users/arcticfox/Documents/youngStars/veloce/spectra/halpha_orders/09nov30133_masked_halpha.npy',\n",
       "       '/Users/arcticfox/Documents/youngStars/veloce/spectra/halpha_orders/09nov30134_halpha.npy',\n",
       "       '/Users/arcticfox/Documents/youngStars/veloce/spectra/halpha_orders/09nov30134_masked_halpha.npy',\n",
       "       '/Users/arcticfox/Documents/youngStars/veloce/spectra/halpha_orders/09nov30135_halpha.npy',\n",
       "       '/Users/arcticfox/Documents/youngStars/veloce/spectra/halpha_orders/09nov30135_masked_halpha.npy',\n",
       "       '/Users/arcticfox/Documents/youngStars/veloce/spectra/halpha_orders/09nov30136_halpha.npy',\n",
       "       '/Users/arcticfox/Documents/youngStars/veloce/spectra/halpha_orders/09nov30136_masked_halpha.npy',\n",
       "       '/Users/arcticfox/Documents/youngStars/veloce/spectra/halpha_orders/09nov30137_halpha.npy',\n",
       "       '/Users/arcticfox/Documents/youngStars/veloce/spectra/halpha_orders/09nov30137_masked_halpha.npy',\n",
       "       '/Users/arcticfox/Documents/youngStars/veloce/spectra/halpha_orders/09nov30138_halpha.npy',\n",
       "       '/Users/arcticfox/Documents/youngStars/veloce/spectra/halpha_orders/09nov30138_masked_halpha.npy',\n",
       "       '/Users/arcticfox/Documents/youngStars/veloce/spectra/halpha_orders/09nov30139_halpha.npy',\n",
       "       '/Users/arcticfox/Documents/youngStars/veloce/spectra/halpha_orders/09nov30139_masked_halpha.npy',\n",
       "       '/Users/arcticfox/Documents/youngStars/veloce/spectra/halpha_orders/09nov30140_halpha.npy',\n",
       "       '/Users/arcticfox/Documents/youngStars/veloce/spectra/halpha_orders/09nov30140_masked_halpha.npy',\n",
       "       '/Users/arcticfox/Documents/youngStars/veloce/spectra/halpha_orders/09nov30141_halpha.npy',\n",
       "       '/Users/arcticfox/Documents/youngStars/veloce/spectra/halpha_orders/09nov30141_masked_halpha.npy',\n",
       "       '/Users/arcticfox/Documents/youngStars/veloce/spectra/halpha_orders/09nov30142_halpha.npy',\n",
       "       '/Users/arcticfox/Documents/youngStars/veloce/spectra/halpha_orders/09nov30142_masked_halpha.npy',\n",
       "       '/Users/arcticfox/Documents/youngStars/veloce/spectra/halpha_orders/09nov30143_halpha.npy',\n",
       "       '/Users/arcticfox/Documents/youngStars/veloce/spectra/halpha_orders/09nov30143_masked_halpha.npy',\n",
       "       '/Users/arcticfox/Documents/youngStars/veloce/spectra/halpha_orders/09nov30144_halpha.npy',\n",
       "       '/Users/arcticfox/Documents/youngStars/veloce/spectra/halpha_orders/09nov30144_masked_halpha.npy',\n",
       "       '/Users/arcticfox/Documents/youngStars/veloce/spectra/halpha_orders/10nov30120_halpha.npy',\n",
       "       '/Users/arcticfox/Documents/youngStars/veloce/spectra/halpha_orders/10nov30120_masked_halpha.npy',\n",
       "       '/Users/arcticfox/Documents/youngStars/veloce/spectra/halpha_orders/10nov30121_halpha.npy',\n",
       "       '/Users/arcticfox/Documents/youngStars/veloce/spectra/halpha_orders/10nov30121_masked_halpha.npy',\n",
       "       '/Users/arcticfox/Documents/youngStars/veloce/spectra/halpha_orders/10nov30122_halpha.npy',\n",
       "       '/Users/arcticfox/Documents/youngStars/veloce/spectra/halpha_orders/10nov30122_masked_halpha.npy',\n",
       "       '/Users/arcticfox/Documents/youngStars/veloce/spectra/halpha_orders/10nov30123_halpha.npy',\n",
       "       '/Users/arcticfox/Documents/youngStars/veloce/spectra/halpha_orders/10nov30123_masked_halpha.npy',\n",
       "       '/Users/arcticfox/Documents/youngStars/veloce/spectra/halpha_orders/10nov30124_halpha.npy',\n",
       "       '/Users/arcticfox/Documents/youngStars/veloce/spectra/halpha_orders/10nov30124_masked_halpha.npy',\n",
       "       '/Users/arcticfox/Documents/youngStars/veloce/spectra/halpha_orders/10nov30125_halpha.npy',\n",
       "       '/Users/arcticfox/Documents/youngStars/veloce/spectra/halpha_orders/10nov30125_masked_halpha.npy',\n",
       "       '/Users/arcticfox/Documents/youngStars/veloce/spectra/halpha_orders/10nov30126_halpha.npy',\n",
       "       '/Users/arcticfox/Documents/youngStars/veloce/spectra/halpha_orders/10nov30126_masked_halpha.npy',\n",
       "       '/Users/arcticfox/Documents/youngStars/veloce/spectra/halpha_orders/10nov30127_halpha.npy',\n",
       "       '/Users/arcticfox/Documents/youngStars/veloce/spectra/halpha_orders/10nov30127_masked_halpha.npy',\n",
       "       '/Users/arcticfox/Documents/youngStars/veloce/spectra/halpha_orders/10nov30128_halpha.npy',\n",
       "       '/Users/arcticfox/Documents/youngStars/veloce/spectra/halpha_orders/10nov30128_masked_halpha.npy',\n",
       "       '/Users/arcticfox/Documents/youngStars/veloce/spectra/halpha_orders/10nov30129_halpha.npy',\n",
       "       '/Users/arcticfox/Documents/youngStars/veloce/spectra/halpha_orders/10nov30129_masked_halpha.npy',\n",
       "       '/Users/arcticfox/Documents/youngStars/veloce/spectra/halpha_orders/10nov30130_halpha.npy',\n",
       "       '/Users/arcticfox/Documents/youngStars/veloce/spectra/halpha_orders/10nov30130_masked_halpha.npy',\n",
       "       '/Users/arcticfox/Documents/youngStars/veloce/spectra/halpha_orders/10nov30131_halpha.npy',\n",
       "       '/Users/arcticfox/Documents/youngStars/veloce/spectra/halpha_orders/10nov30131_masked_halpha.npy',\n",
       "       '/Users/arcticfox/Documents/youngStars/veloce/spectra/halpha_orders/10nov30132_halpha.npy',\n",
       "       '/Users/arcticfox/Documents/youngStars/veloce/spectra/halpha_orders/10nov30132_masked_halpha.npy',\n",
       "       '/Users/arcticfox/Documents/youngStars/veloce/spectra/halpha_orders/10nov30133_halpha.npy',\n",
       "       '/Users/arcticfox/Documents/youngStars/veloce/spectra/halpha_orders/10nov30133_masked_halpha.npy',\n",
       "       '/Users/arcticfox/Documents/youngStars/veloce/spectra/halpha_orders/10nov30134_halpha.npy',\n",
       "       '/Users/arcticfox/Documents/youngStars/veloce/spectra/halpha_orders/10nov30134_masked_halpha.npy',\n",
       "       '/Users/arcticfox/Documents/youngStars/veloce/spectra/halpha_orders/10nov30135_halpha.npy',\n",
       "       '/Users/arcticfox/Documents/youngStars/veloce/spectra/halpha_orders/10nov30135_masked_halpha.npy',\n",
       "       '/Users/arcticfox/Documents/youngStars/veloce/spectra/halpha_orders/10nov30136_halpha.npy',\n",
       "       '/Users/arcticfox/Documents/youngStars/veloce/spectra/halpha_orders/10nov30136_masked_halpha.npy',\n",
       "       '/Users/arcticfox/Documents/youngStars/veloce/spectra/halpha_orders/10nov30137_halpha.npy',\n",
       "       '/Users/arcticfox/Documents/youngStars/veloce/spectra/halpha_orders/10nov30137_masked_halpha.npy',\n",
       "       '/Users/arcticfox/Documents/youngStars/veloce/spectra/halpha_orders/10nov30138_halpha.npy',\n",
       "       '/Users/arcticfox/Documents/youngStars/veloce/spectra/halpha_orders/10nov30138_masked_halpha.npy',\n",
       "       '/Users/arcticfox/Documents/youngStars/veloce/spectra/halpha_orders/10nov30139_halpha.npy',\n",
       "       '/Users/arcticfox/Documents/youngStars/veloce/spectra/halpha_orders/10nov30139_masked_halpha.npy',\n",
       "       '/Users/arcticfox/Documents/youngStars/veloce/spectra/halpha_orders/10nov30140_halpha.npy',\n",
       "       '/Users/arcticfox/Documents/youngStars/veloce/spectra/halpha_orders/10nov30140_masked_halpha.npy',\n",
       "       '/Users/arcticfox/Documents/youngStars/veloce/spectra/halpha_orders/10nov30141_halpha.npy',\n",
       "       '/Users/arcticfox/Documents/youngStars/veloce/spectra/halpha_orders/10nov30141_masked_halpha.npy',\n",
       "       '/Users/arcticfox/Documents/youngStars/veloce/spectra/halpha_orders/10nov30142_halpha.npy',\n",
       "       '/Users/arcticfox/Documents/youngStars/veloce/spectra/halpha_orders/10nov30142_masked_halpha.npy',\n",
       "       '/Users/arcticfox/Documents/youngStars/veloce/spectra/halpha_orders/10nov30143_halpha.npy',\n",
       "       '/Users/arcticfox/Documents/youngStars/veloce/spectra/halpha_orders/10nov30143_masked_halpha.npy',\n",
       "       '/Users/arcticfox/Documents/youngStars/veloce/spectra/halpha_orders/10nov30144_halpha.npy',\n",
       "       '/Users/arcticfox/Documents/youngStars/veloce/spectra/halpha_orders/10nov30144_masked_halpha.npy',\n",
       "       '/Users/arcticfox/Documents/youngStars/veloce/spectra/halpha_orders/10nov30145_halpha.npy',\n",
       "       '/Users/arcticfox/Documents/youngStars/veloce/spectra/halpha_orders/10nov30145_masked_halpha.npy',\n",
       "       '/Users/arcticfox/Documents/youngStars/veloce/spectra/halpha_orders/10nov30146_halpha.npy',\n",
       "       '/Users/arcticfox/Documents/youngStars/veloce/spectra/halpha_orders/10nov30146_masked_halpha.npy',\n",
       "       '/Users/arcticfox/Documents/youngStars/veloce/spectra/halpha_orders/10nov30147_halpha.npy',\n",
       "       '/Users/arcticfox/Documents/youngStars/veloce/spectra/halpha_orders/10nov30147_masked_halpha.npy',\n",
       "       '/Users/arcticfox/Documents/youngStars/veloce/spectra/halpha_orders/10nov30148_halpha.npy',\n",
       "       '/Users/arcticfox/Documents/youngStars/veloce/spectra/halpha_orders/10nov30148_masked_halpha.npy',\n",
       "       '/Users/arcticfox/Documents/youngStars/veloce/spectra/halpha_orders/10nov30149_halpha.npy',\n",
       "       '/Users/arcticfox/Documents/youngStars/veloce/spectra/halpha_orders/10nov30149_masked_halpha.npy',\n",
       "       '/Users/arcticfox/Documents/youngStars/veloce/spectra/halpha_orders/10nov30150_halpha.npy',\n",
       "       '/Users/arcticfox/Documents/youngStars/veloce/spectra/halpha_orders/10nov30150_masked_halpha.npy',\n",
       "       '/Users/arcticfox/Documents/youngStars/veloce/spectra/halpha_orders/23nov30092_halpha.npy',\n",
       "       '/Users/arcticfox/Documents/youngStars/veloce/spectra/halpha_orders/23nov30093_halpha.npy',\n",
       "       '/Users/arcticfox/Documents/youngStars/veloce/spectra/halpha_orders/23nov30094_halpha.npy',\n",
       "       '/Users/arcticfox/Documents/youngStars/veloce/spectra/halpha_orders/23nov30095_halpha.npy',\n",
       "       '/Users/arcticfox/Documents/youngStars/veloce/spectra/halpha_orders/23nov30096_halpha.npy',\n",
       "       '/Users/arcticfox/Documents/youngStars/veloce/spectra/halpha_orders/23nov30098_halpha.npy',\n",
       "       '/Users/arcticfox/Documents/youngStars/veloce/spectra/halpha_orders/23nov30099_halpha.npy',\n",
       "       '/Users/arcticfox/Documents/youngStars/veloce/spectra/halpha_orders/23nov30100_halpha.npy',\n",
       "       '/Users/arcticfox/Documents/youngStars/veloce/spectra/halpha_orders/23nov30101_halpha.npy',\n",
       "       '/Users/arcticfox/Documents/youngStars/veloce/spectra/halpha_orders/23nov30102_halpha.npy',\n",
       "       '/Users/arcticfox/Documents/youngStars/veloce/spectra/halpha_orders/23nov30103_halpha.npy',\n",
       "       '/Users/arcticfox/Documents/youngStars/veloce/spectra/halpha_orders/23nov30105_halpha.npy',\n",
       "       '/Users/arcticfox/Documents/youngStars/veloce/spectra/halpha_orders/23nov30106_halpha.npy',\n",
       "       '/Users/arcticfox/Documents/youngStars/veloce/spectra/halpha_orders/23nov30107_halpha.npy',\n",
       "       '/Users/arcticfox/Documents/youngStars/veloce/spectra/halpha_orders/23nov30108_halpha.npy',\n",
       "       '/Users/arcticfox/Documents/youngStars/veloce/spectra/halpha_orders/23nov30109_halpha.npy',\n",
       "       '/Users/arcticfox/Documents/youngStars/veloce/spectra/halpha_orders/23nov30110_halpha.npy',\n",
       "       '/Users/arcticfox/Documents/youngStars/veloce/spectra/halpha_orders/23nov30111_halpha.npy',\n",
       "       '/Users/arcticfox/Documents/youngStars/veloce/spectra/halpha_orders/23nov30112_halpha.npy',\n",
       "       '/Users/arcticfox/Documents/youngStars/veloce/spectra/halpha_orders/23nov30113_halpha.npy',\n",
       "       '/Users/arcticfox/Documents/youngStars/veloce/spectra/halpha_orders/23nov30115_halpha.npy',\n",
       "       '/Users/arcticfox/Documents/youngStars/veloce/spectra/halpha_orders/23nov30116_halpha.npy',\n",
       "       '/Users/arcticfox/Documents/youngStars/veloce/spectra/halpha_orders/23nov30117_halpha.npy',\n",
       "       '/Users/arcticfox/Documents/youngStars/veloce/spectra/halpha_orders/23nov30118_halpha.npy',\n",
       "       '/Users/arcticfox/Documents/youngStars/veloce/spectra/halpha_orders/23nov30119_halpha.npy',\n",
       "       '/Users/arcticfox/Documents/youngStars/veloce/spectra/halpha_orders/23nov30120_halpha.npy',\n",
       "       '/Users/arcticfox/Documents/youngStars/veloce/spectra/halpha_orders/23nov30121_halpha.npy',\n",
       "       '/Users/arcticfox/Documents/youngStars/veloce/spectra/halpha_orders/23nov30122_halpha.npy',\n",
       "       '/Users/arcticfox/Documents/youngStars/veloce/spectra/halpha_orders/24nov30102_halpha.npy',\n",
       "       '/Users/arcticfox/Documents/youngStars/veloce/spectra/halpha_orders/24nov30103_halpha.npy',\n",
       "       '/Users/arcticfox/Documents/youngStars/veloce/spectra/halpha_orders/24nov30104_halpha.npy',\n",
       "       '/Users/arcticfox/Documents/youngStars/veloce/spectra/halpha_orders/24nov30105_halpha.npy',\n",
       "       '/Users/arcticfox/Documents/youngStars/veloce/spectra/halpha_orders/24nov30106_halpha.npy',\n",
       "       '/Users/arcticfox/Documents/youngStars/veloce/spectra/halpha_orders/24nov30107_halpha.npy',\n",
       "       '/Users/arcticfox/Documents/youngStars/veloce/spectra/halpha_orders/24nov30108_halpha.npy',\n",
       "       '/Users/arcticfox/Documents/youngStars/veloce/spectra/halpha_orders/24nov30109_halpha.npy',\n",
       "       '/Users/arcticfox/Documents/youngStars/veloce/spectra/halpha_orders/24nov30111_halpha.npy',\n",
       "       '/Users/arcticfox/Documents/youngStars/veloce/spectra/halpha_orders/24nov30112_halpha.npy',\n",
       "       '/Users/arcticfox/Documents/youngStars/veloce/spectra/halpha_orders/24nov30113_halpha.npy',\n",
       "       '/Users/arcticfox/Documents/youngStars/veloce/spectra/halpha_orders/24nov30114_halpha.npy',\n",
       "       '/Users/arcticfox/Documents/youngStars/veloce/spectra/halpha_orders/24nov30115_halpha.npy',\n",
       "       '/Users/arcticfox/Documents/youngStars/veloce/spectra/halpha_orders/24nov30116_halpha.npy',\n",
       "       '/Users/arcticfox/Documents/youngStars/veloce/spectra/halpha_orders/24nov30117_halpha.npy',\n",
       "       '/Users/arcticfox/Documents/youngStars/veloce/spectra/halpha_orders/24nov30118_halpha.npy',\n",
       "       '/Users/arcticfox/Documents/youngStars/veloce/spectra/halpha_orders/24nov30119_halpha.npy',\n",
       "       '/Users/arcticfox/Documents/youngStars/veloce/spectra/halpha_orders/24nov30120_halpha.npy',\n",
       "       '/Users/arcticfox/Documents/youngStars/veloce/spectra/halpha_orders/24nov30121_halpha.npy',\n",
       "       '/Users/arcticfox/Documents/youngStars/veloce/spectra/halpha_orders/24nov30123_halpha.npy',\n",
       "       '/Users/arcticfox/Documents/youngStars/veloce/spectra/halpha_orders/24nov30124_halpha.npy',\n",
       "       '/Users/arcticfox/Documents/youngStars/veloce/spectra/halpha_orders/24nov30125_halpha.npy',\n",
       "       '/Users/arcticfox/Documents/youngStars/veloce/spectra/halpha_orders/24nov30126_halpha.npy',\n",
       "       '/Users/arcticfox/Documents/youngStars/veloce/spectra/halpha_orders/24nov30127_halpha.npy',\n",
       "       '/Users/arcticfox/Documents/youngStars/veloce/spectra/halpha_orders/24nov30128_halpha.npy',\n",
       "       '/Users/arcticfox/Documents/youngStars/veloce/spectra/halpha_orders/24nov30135_halpha.npy',\n",
       "       '/Users/arcticfox/Documents/youngStars/veloce/spectra/halpha_orders/24nov30136_halpha.npy',\n",
       "       '/Users/arcticfox/Documents/youngStars/veloce/spectra/halpha_orders/24nov30137_halpha.npy',\n",
       "       '/Users/arcticfox/Documents/youngStars/veloce/spectra/halpha_orders/25nov30110_halpha.npy',\n",
       "       '/Users/arcticfox/Documents/youngStars/veloce/spectra/halpha_orders/25nov30111_halpha.npy',\n",
       "       '/Users/arcticfox/Documents/youngStars/veloce/spectra/halpha_orders/25nov30112_halpha.npy',\n",
       "       '/Users/arcticfox/Documents/youngStars/veloce/spectra/halpha_orders/25nov30113_halpha.npy',\n",
       "       '/Users/arcticfox/Documents/youngStars/veloce/spectra/halpha_orders/25nov30114_halpha.npy',\n",
       "       '/Users/arcticfox/Documents/youngStars/veloce/spectra/halpha_orders/25nov30115_halpha.npy',\n",
       "       '/Users/arcticfox/Documents/youngStars/veloce/spectra/halpha_orders/25nov30116_halpha.npy',\n",
       "       '/Users/arcticfox/Documents/youngStars/veloce/spectra/halpha_orders/25nov30117_halpha.npy',\n",
       "       '/Users/arcticfox/Documents/youngStars/veloce/spectra/halpha_orders/25nov30118_halpha.npy',\n",
       "       '/Users/arcticfox/Documents/youngStars/veloce/spectra/halpha_orders/25nov30120_halpha.npy',\n",
       "       '/Users/arcticfox/Documents/youngStars/veloce/spectra/halpha_orders/25nov30121_halpha.npy',\n",
       "       '/Users/arcticfox/Documents/youngStars/veloce/spectra/halpha_orders/25nov30122_halpha.npy',\n",
       "       '/Users/arcticfox/Documents/youngStars/veloce/spectra/halpha_orders/25nov30123_halpha.npy',\n",
       "       '/Users/arcticfox/Documents/youngStars/veloce/spectra/halpha_orders/25nov30124_halpha.npy',\n",
       "       '/Users/arcticfox/Documents/youngStars/veloce/spectra/halpha_orders/25nov30125_halpha.npy',\n",
       "       '/Users/arcticfox/Documents/youngStars/veloce/spectra/halpha_orders/25nov30126_halpha.npy',\n",
       "       '/Users/arcticfox/Documents/youngStars/veloce/spectra/halpha_orders/25nov30128_halpha.npy',\n",
       "       '/Users/arcticfox/Documents/youngStars/veloce/spectra/halpha_orders/25nov30129_halpha.npy',\n",
       "       '/Users/arcticfox/Documents/youngStars/veloce/spectra/halpha_orders/25nov30130_halpha.npy',\n",
       "       '/Users/arcticfox/Documents/youngStars/veloce/spectra/halpha_orders/25nov30131_halpha.npy',\n",
       "       '/Users/arcticfox/Documents/youngStars/veloce/spectra/halpha_orders/25nov30132_halpha.npy',\n",
       "       '/Users/arcticfox/Documents/youngStars/veloce/spectra/halpha_orders/25nov30133_halpha.npy',\n",
       "       '/Users/arcticfox/Documents/youngStars/veloce/spectra/halpha_orders/25nov30134_halpha.npy',\n",
       "       '/Users/arcticfox/Documents/youngStars/veloce/spectra/halpha_orders/25nov30150_halpha.npy',\n",
       "       '/Users/arcticfox/Documents/youngStars/veloce/spectra/halpha_orders/25nov30151_halpha.npy',\n",
       "       '/Users/arcticfox/Documents/youngStars/veloce/spectra/halpha_orders/25nov30152_halpha.npy',\n",
       "       '/Users/arcticfox/Documents/youngStars/veloce/spectra/halpha_orders/25nov30153_halpha.npy',\n",
       "       '/Users/arcticfox/Documents/youngStars/veloce/spectra/halpha_orders/25nov30154_halpha.npy',\n",
       "       '/Users/arcticfox/Documents/youngStars/veloce/spectra/halpha_orders/25nov30155_halpha.npy',\n",
       "       '/Users/arcticfox/Documents/youngStars/veloce/spectra/halpha_orders/25nov30156_halpha.npy',\n",
       "       '/Users/arcticfox/Documents/youngStars/veloce/spectra/halpha_orders/25nov30157_halpha.npy',\n",
       "       '/Users/arcticfox/Documents/youngStars/veloce/spectra/halpha_orders/25nov30158_halpha.npy',\n",
       "       '/Users/arcticfox/Documents/youngStars/veloce/spectra/halpha_orders/25nov30160_halpha.npy',\n",
       "       '/Users/arcticfox/Documents/youngStars/veloce/spectra/halpha_orders/25nov30161_halpha.npy',\n",
       "       '/Users/arcticfox/Documents/youngStars/veloce/spectra/halpha_orders/25nov30162_halpha.npy',\n",
       "       '/Users/arcticfox/Documents/youngStars/veloce/spectra/halpha_orders/25nov30163_halpha.npy',\n",
       "       '/Users/arcticfox/Documents/youngStars/veloce/spectra/halpha_orders/25nov30164_halpha.npy',\n",
       "       '/Users/arcticfox/Documents/youngStars/veloce/spectra/halpha_orders/25nov30165_halpha.npy',\n",
       "       '/Users/arcticfox/Documents/youngStars/veloce/spectra/halpha_orders/25nov30166_halpha.npy',\n",
       "       '/Users/arcticfox/Documents/youngStars/veloce/spectra/halpha_orders/25nov30167_halpha.npy',\n",
       "       '/Users/arcticfox/Documents/youngStars/veloce/spectra/halpha_orders/26nov30105_halpha.npy',\n",
       "       '/Users/arcticfox/Documents/youngStars/veloce/spectra/halpha_orders/26nov30106_halpha.npy',\n",
       "       '/Users/arcticfox/Documents/youngStars/veloce/spectra/halpha_orders/26nov30107_halpha.npy',\n",
       "       '/Users/arcticfox/Documents/youngStars/veloce/spectra/halpha_orders/26nov30108_halpha.npy',\n",
       "       '/Users/arcticfox/Documents/youngStars/veloce/spectra/halpha_orders/26nov30109_halpha.npy',\n",
       "       '/Users/arcticfox/Documents/youngStars/veloce/spectra/halpha_orders/26nov30110_halpha.npy',\n",
       "       '/Users/arcticfox/Documents/youngStars/veloce/spectra/halpha_orders/26nov30111_halpha.npy',\n",
       "       '/Users/arcticfox/Documents/youngStars/veloce/spectra/halpha_orders/26nov30114_halpha.npy',\n",
       "       '/Users/arcticfox/Documents/youngStars/veloce/spectra/halpha_orders/26nov30115_halpha.npy',\n",
       "       '/Users/arcticfox/Documents/youngStars/veloce/spectra/halpha_orders/26nov30116_halpha.npy',\n",
       "       '/Users/arcticfox/Documents/youngStars/veloce/spectra/halpha_orders/26nov30117_halpha.npy',\n",
       "       '/Users/arcticfox/Documents/youngStars/veloce/spectra/halpha_orders/26nov30118_halpha.npy',\n",
       "       '/Users/arcticfox/Documents/youngStars/veloce/spectra/halpha_orders/26nov30119_halpha.npy',\n",
       "       '/Users/arcticfox/Documents/youngStars/veloce/spectra/halpha_orders/26nov30122_halpha.npy',\n",
       "       '/Users/arcticfox/Documents/youngStars/veloce/spectra/halpha_orders/26nov30123_halpha.npy',\n",
       "       '/Users/arcticfox/Documents/youngStars/veloce/spectra/halpha_orders/26nov30124_halpha.npy',\n",
       "       '/Users/arcticfox/Documents/youngStars/veloce/spectra/halpha_orders/26nov30125_halpha.npy',\n",
       "       '/Users/arcticfox/Documents/youngStars/veloce/spectra/halpha_orders/26nov30126_halpha.npy',\n",
       "       '/Users/arcticfox/Documents/youngStars/veloce/spectra/halpha_orders/26nov30127_halpha.npy',\n",
       "       '/Users/arcticfox/Documents/youngStars/veloce/spectra/halpha_orders/26nov30128_halpha.npy',\n",
       "       '/Users/arcticfox/Documents/youngStars/veloce/spectra/halpha_orders/26nov30135_halpha.npy',\n",
       "       '/Users/arcticfox/Documents/youngStars/veloce/spectra/halpha_orders/26nov30136_halpha.npy',\n",
       "       '/Users/arcticfox/Documents/youngStars/veloce/spectra/halpha_orders/26nov30137_halpha.npy',\n",
       "       '/Users/arcticfox/Documents/youngStars/veloce/spectra/halpha_orders/26nov30138_halpha.npy',\n",
       "       '/Users/arcticfox/Documents/youngStars/veloce/spectra/halpha_orders/26nov30139_halpha.npy',\n",
       "       '/Users/arcticfox/Documents/youngStars/veloce/spectra/halpha_orders/26nov30140_halpha.npy',\n",
       "       '/Users/arcticfox/Documents/youngStars/veloce/spectra/halpha_orders/26nov30141_halpha.npy',\n",
       "       '/Users/arcticfox/Documents/youngStars/veloce/spectra/halpha_orders/26nov30142_halpha.npy',\n",
       "       '/Users/arcticfox/Documents/youngStars/veloce/spectra/halpha_orders/26nov30143_halpha.npy',\n",
       "       '/Users/arcticfox/Documents/youngStars/veloce/spectra/halpha_orders/26nov30145_halpha.npy',\n",
       "       '/Users/arcticfox/Documents/youngStars/veloce/spectra/halpha_orders/26nov30146_halpha.npy',\n",
       "       '/Users/arcticfox/Documents/youngStars/veloce/spectra/halpha_orders/26nov30147_halpha.npy',\n",
       "       '/Users/arcticfox/Documents/youngStars/veloce/spectra/halpha_orders/26nov30148_halpha.npy',\n",
       "       '/Users/arcticfox/Documents/youngStars/veloce/spectra/halpha_orders/26nov30149_halpha.npy',\n",
       "       '/Users/arcticfox/Documents/youngStars/veloce/spectra/halpha_orders/26nov30150_halpha.npy',\n",
       "       '/Users/arcticfox/Documents/youngStars/veloce/spectra/halpha_orders/26nov30151_halpha.npy',\n",
       "       '/Users/arcticfox/Documents/youngStars/veloce/spectra/halpha_orders/26nov30152_halpha.npy',\n",
       "       '/Users/arcticfox/Documents/youngStars/veloce/spectra/halpha_orders/26nov30153_halpha.npy',\n",
       "       '/Users/arcticfox/Documents/youngStars/veloce/spectra/halpha_orders/26nov30154_halpha.npy'],\n",
       "      dtype='<U95')"
      ]
     },
     "execution_count": 137,
     "metadata": {},
     "output_type": "execute_result"
    }
   ],
   "source": [
    "orders"
   ]
  },
  {
   "cell_type": "code",
   "execution_count": 138,
   "metadata": {},
   "outputs": [
    {
     "name": "stderr",
     "output_type": "stream",
     "text": [
      "//anaconda3/lib/python3.7/site-packages/scipy/interpolate/interpolate.py:623: RuntimeWarning: invalid value encountered in subtract\n",
      "  slope = (y_hi - y_lo) / (x_hi - x_lo)[:, None]\n",
      "//anaconda3/lib/python3.7/site-packages/scipy/interpolate/interpolate.py:626: RuntimeWarning: invalid value encountered in add\n",
      "  y_new = slope*(x_new - x_lo)[:, None] + y_lo\n"
     ]
    }
   ],
   "source": [
    "wavelength_fns = []\n",
    "\n",
    "for j in range(len(orders)):\n",
    "    \n",
    "    flux = np.load(orders[j])\n",
    "    interp_flux = interp1d(fitx, flux)\n",
    "    \n",
    "    date_dir = int(orders[j].split('/')[-1].split('n')[0])\n",
    "    \n",
    "    filename = str(orders[j].split('/')[-1].split('.')[0].split('_')[0])\n",
    "    \n",
    "    row = [i for i in log['Filename'] if filename in i]\n",
    "    if len(row) == 0:\n",
    "        ra, dec = locations[tics[-1]][0], locations[tics[-1]][-1]\n",
    "    else:\n",
    "        arg = np.where(log['Filename']==row)[0]\n",
    "        t = log['TIC'][arg].data[0]\n",
    "        ra, dec = locations[t][0], locations[t][-1]\n",
    "\n",
    "    \n",
    "    fits_fn = np.sort([i for i in os.listdir(path.format(date_dir)) if \n",
    "                       filename in i and i.endswith('.fits')])[0]\n",
    "    fits_fn = os.path.join(path.format(date_dir), fits_fn)\n",
    "    \n",
    "    hdu = fits.open(fits_fn)\n",
    "    time = hdu[0].header['UTMJD']\n",
    "    \n",
    "    if j == 0:\n",
    "        LATITUDE = hdu[0].header['LAT_OBS'] * u.deg\n",
    "        LONGITUDE = hdu[0].header['LONG_OBS'] * u.deg\n",
    "        ALTITUDE = hdu[0].header['ALT_OBS'] * u.m\n",
    "\n",
    "    wavelength = interp_wave(newfitx) * u.AA\n",
    "    speedlight = 2.998e8 * u.m / u.s\n",
    "    barycorr = get_barycorr(time, ra, dec)\n",
    "    dopshift = ((wavelength * barycorr) / speedlight).to(u.nm)\n",
    "    wavelength = (wavelength - dopshift).to(u.nm)\n",
    "        \n",
    "    hdu.close()\n",
    "\n",
    "    outname = os.path.join(path_orders, '{0}_with_wavelength.npy'.format(filename))\n",
    "    np.save(outname,\n",
    "            [wavelength*1.005, interp_flux(newfitx)])\n",
    "    wavelength_fns.append(outname)"
   ]
  },
  {
   "cell_type": "code",
   "execution_count": 115,
   "metadata": {},
   "outputs": [
    {
     "data": {
      "text/latex": [
       "$[656.62324,~656.62267,~656.6221,~\\dots,~647.30653,~647.30211,~647.2977] \\; \\mathrm{nm}$"
      ],
      "text/plain": [
       "<Quantity [656.62323621, 656.62267062, 656.62210484, ..., 647.30652852,\n",
       "           647.30211299, 647.29769595] nm>"
      ]
     },
     "execution_count": 115,
     "metadata": {},
     "output_type": "execute_result"
    }
   ],
   "source": [
    "wavelength"
   ]
  },
  {
   "cell_type": "code",
   "execution_count": 116,
   "metadata": {},
   "outputs": [
    {
     "data": {
      "text/plain": [
       "(0.7, 1.2)"
      ]
     },
     "execution_count": 116,
     "metadata": {},
     "output_type": "execute_result"
    },
    {
     "data": {
      "image/png": "[encoded data removed]",
      "text/plain": [
       "<Figure size 1008x288 with 1 Axes>"
      ]
     },
     "metadata": {
      "needs_background": "light"
     },
     "output_type": "display_data"
    }
   ],
   "source": [
    "plt.figure(figsize=(14,4))\n",
    "plt.plot(wavelength*1.005, interp_flux(newfitx), 'k')\n",
    "plt.vlines(849.8, 0, 2, color='darkorange', alpha=0.5, lw=4)\n",
    "plt.vlines(854.2, 0, 2, color='darkorange', alpha=0.5, lw=4)\n",
    "plt.xlim(867, 845)\n",
    "plt.ylim(0.7, 1.2)"
   ]
  },
  {
   "cell_type": "code",
   "execution_count": 139,
   "metadata": {},
   "outputs": [
    {
     "data": {
      "text/plain": [
       "(0.7, 4.0)"
      ]
     },
     "execution_count": 139,
     "metadata": {},
     "output_type": "execute_result"
    },
    {
     "data": {
      "image/png": "[encoded data removed]",
      "text/plain": [
       "<Figure size 1008x288 with 1 Axes>"
      ]
     },
     "metadata": {
      "needs_background": "light"
     },
     "output_type": "display_data"
    }
   ],
   "source": [
    "plt.figure(figsize=(14,4))\n",
    "plt.plot(wavelength*1.005, interp_flux(newfitx), 'k')\n",
    "plt.vlines(656.23, 0, 10, color='darkorange', alpha=0.5, lw=4)\n",
    "#plt.vlines(854.2, 0, 2, color='darkorange', alpha=0.5, lw=4)\n",
    "plt.xlim(660, 652)\n",
    "plt.ylim(0.7, 4.0)"
   ]
  },
  {
   "cell_type": "markdown",
   "metadata": {},
   "source": [
    "# Measure Equivalent Widths"
   ]
  },
  {
   "cell_type": "code",
   "execution_count": 140,
   "metadata": {},
   "outputs": [],
   "source": [
    "master = Table.read('/Users/arcticfox/Documents/youngStars/veloce/master_log.tab',\n",
    "                    format='ascii')\n",
    "path = '/Users/arcticfox/Documents/youngStars/veloce/spectra/'\n",
    "tab = Table.read(os.path.join(path, '{0}_orders.tab'.format(element)), format='ascii')"
   ]
  },
  {
   "cell_type": "code",
   "execution_count": 141,
   "metadata": {},
   "outputs": [],
   "source": [
    "ew = {}\n",
    "for t in tics:\n",
    "    ew[t] = []\n",
    "\n",
    "for i in range(len(wavelength_fns)):\n",
    "    dat = np.load(wavelength_fns[i])\n",
    "    \n",
    "    wave = dat[0] +0.0#* 1.005\n",
    "    \n",
    "    if element == 'halpha':\n",
    "        line_inds = np.where((wave >= 656.05) & (wave <= 656.4))[0]\n",
    "        continuum_inds = np.where( ( ( wave>=655.4) & (wave<=656.0)  ) |\n",
    "                                   ( (wave>=656.45) & (wave<=656.85) ) )[0]\n",
    "    elif element == 'calcium':\n",
    "        line_inds = np.where((wave>=849.5) & (wave<=850.3))[0]\n",
    "        continuum_inds = np.where( ( (wave>=848.4) & (wave<=849.3) ) |\n",
    "                                   ( (wave>=850.5) & (wave<=852) ) )[0]\n",
    "    \n",
    "    string = wavelength_fns[i].split('/')[-1]\n",
    "    date = string.split('n')[0]\n",
    "    file = string.split('_')[0]\n",
    "    \n",
    "    line_area = np.abs(np.trapz(dat[1][line_inds], x=dat[0][line_inds]))\n",
    "    continuum = np.nanmedian(dat[1][continuum_inds])\n",
    "    \n",
    "    frac = (dat[1][line_inds][1:]-continuum)/continuum\n",
    "    dx = np.diff(dat[0][line_inds])\n",
    "    summed_ew = (np.nansum(frac * dx)*u.nm).to(u.AA)\n",
    "    \n",
    "    if int(date) < 20:\n",
    "        ew[333680372].append(summed_ew.value)\n",
    "    else:\n",
    "        fn = [i for i in tab['Filename'] if file in i][0]\n",
    "        tic = tab[tab['Filename']==fn]['TIC'].data[0]\n",
    "        ew[tic].append(summed_ew.value)\n",
    "    \n",
    "    \"\"\"\n",
    "    plt.plot(wave, dat[1], 'k')\n",
    "    plt.plot(wave[line_inds], dat[1][line_inds], c='darkorange')\n",
    "    plt.plot(wave[continuum_inds], dat[1][continuum_inds], c='skyblue')\n",
    "    plt.xlim(860,845)\n",
    "    plt.ylim(0,4)\n",
    "    plt.show()\n",
    "    \"\"\""
   ]
  },
  {
   "cell_type": "code",
   "execution_count": 142,
   "metadata": {},
   "outputs": [
    {
     "data": {
      "image/png": "[encoded data removed]",
      "text/plain": [
       "<Figure size 432x288 with 1 Axes>"
      ]
     },
     "metadata": {
      "needs_background": "light"
     },
     "output_type": "display_data"
    },
    {
     "data": {
      "image/png": "[encoded data removed]",
      "text/plain": [
       "<Figure size 432x288 with 1 Axes>"
      ]
     },
     "metadata": {
      "needs_background": "light"
     },
     "output_type": "display_data"
    },
    {
     "data": {
      "image/png": "[encoded data removed]",
      "text/plain": [
       "<Figure size 432x288 with 1 Axes>"
      ]
     },
     "metadata": {
      "needs_background": "light"
     },
     "output_type": "display_data"
    },
    {
     "data": {
      "image/png": "[encoded data removed]",
      "text/plain": [
       "<Figure size 432x288 with 1 Axes>"
      ]
     },
     "metadata": {
      "needs_background": "light"
     },
     "output_type": "display_data"
    },
    {
     "data": {
      "image/png": "[encoded data removed]",
      "text/plain": [
       "<Figure size 432x288 with 1 Axes>"
      ]
     },
     "metadata": {
      "needs_background": "light"
     },
     "output_type": "display_data"
    },
    {
     "data": {
      "image/png": "[encoded data removed]",
      "text/plain": [
       "<Figure size 432x288 with 1 Axes>"
      ]
     },
     "metadata": {
      "needs_background": "light"
     },
     "output_type": "display_data"
    }
   ],
   "source": [
    "for t in tics:\n",
    "    plt.title(t)\n",
    "    plt.plot(ew[t], '.')\n",
    "    plt.show()"
   ]
  },
  {
   "cell_type": "code",
   "execution_count": 143,
   "metadata": {},
   "outputs": [],
   "source": [
    "for tic in tics:\n",
    "    np.save(os.path.join(path, 'ew_{0}_{1}.npy'.format(element, tic)), ew[tic])"
   ]
  },
  {
   "cell_type": "code",
   "execution_count": null,
   "metadata": {},
   "outputs": [],
   "source": []
  }
 ],
 "metadata": {
  "kernelspec": {
   "display_name": "Python 3",
   "language": "python",
   "name": "python3"
  },
  "language_info": {
   "codemirror_mode": {
    "name": "ipython",
    "version": 3
   },
   "file_extension": ".py",
   "mimetype": "text/x-python",
   "name": "python",
   "nbconvert_exporter": "python",
   "pygments_lexer": "ipython3",
   "version": "3.7.3"
  }
 },
 "nbformat": 4,
 "nbformat_minor": 2
}
